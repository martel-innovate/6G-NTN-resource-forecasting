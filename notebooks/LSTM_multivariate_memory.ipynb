{
 "cells": [
  {
   "cell_type": "code",
   "execution_count": 15,
   "metadata": {},
   "outputs": [],
   "source": [
    "import pandas as pd\n",
    "import seaborn as sns\n",
    "import os\n",
    "os.environ.setdefault(\"DARTS_CONFIGURE_MATPLOTLIB\", \"0\")\n",
    "\n",
    "from darts.models import RNNModel\n",
    "from darts.metrics import mape, mae, rmse\n",
    "from darts.dataprocessing.transformers import Scaler\n",
    "from darts import TimeSeries    \n",
    "import matplotlib.pyplot as plt\n",
    "from pytorch_lightning.callbacks.early_stopping import EarlyStopping\n",
    "\n",
    "from pytorch_lightning.callbacks import LearningRateMonitor\n",
    "from torch.optim.lr_scheduler import StepLR\n"
   ]
  },
  {
   "cell_type": "code",
   "execution_count": 16,
   "metadata": {},
   "outputs": [
    {
     "data": {
      "text/html": [
       "<div>\n",
       "<style scoped>\n",
       "    .dataframe tbody tr th:only-of-type {\n",
       "        vertical-align: middle;\n",
       "    }\n",
       "\n",
       "    .dataframe tbody tr th {\n",
       "        vertical-align: top;\n",
       "    }\n",
       "\n",
       "    .dataframe thead th {\n",
       "        text-align: right;\n",
       "    }\n",
       "</style>\n",
       "<table border=\"1\" class=\"dataframe\">\n",
       "  <thead>\n",
       "    <tr style=\"text-align: right;\">\n",
       "      <th></th>\n",
       "      <th>ram_limit</th>\n",
       "      <th>cpu_limit</th>\n",
       "      <th>ram_usage</th>\n",
       "      <th>cpu_usage</th>\n",
       "      <th>n</th>\n",
       "      <th>mean</th>\n",
       "      <th>lat50</th>\n",
       "      <th>datetime</th>\n",
       "      <th>day</th>\n",
       "      <th>hour</th>\n",
       "    </tr>\n",
       "  </thead>\n",
       "  <tbody>\n",
       "    <tr>\n",
       "      <th>0</th>\n",
       "      <td>2048</td>\n",
       "      <td>2.0</td>\n",
       "      <td>72.214844</td>\n",
       "      <td>0.003700</td>\n",
       "      <td>10</td>\n",
       "      <td>194402</td>\n",
       "      <td>210678</td>\n",
       "      <td>2021-11-10 14:06:18</td>\n",
       "      <td>10</td>\n",
       "      <td>14</td>\n",
       "    </tr>\n",
       "    <tr>\n",
       "      <th>1</th>\n",
       "      <td>2048</td>\n",
       "      <td>2.0</td>\n",
       "      <td>133.757812</td>\n",
       "      <td>0.003700</td>\n",
       "      <td>20</td>\n",
       "      <td>301621</td>\n",
       "      <td>304027</td>\n",
       "      <td>2021-11-10 14:06:28</td>\n",
       "      <td>10</td>\n",
       "      <td>14</td>\n",
       "    </tr>\n",
       "    <tr>\n",
       "      <th>2</th>\n",
       "      <td>2048</td>\n",
       "      <td>2.0</td>\n",
       "      <td>175.703125</td>\n",
       "      <td>0.052663</td>\n",
       "      <td>30</td>\n",
       "      <td>465659</td>\n",
       "      <td>465392</td>\n",
       "      <td>2021-11-10 14:06:39</td>\n",
       "      <td>10</td>\n",
       "      <td>14</td>\n",
       "    </tr>\n",
       "    <tr>\n",
       "      <th>3</th>\n",
       "      <td>2048</td>\n",
       "      <td>2.0</td>\n",
       "      <td>207.597656</td>\n",
       "      <td>0.052663</td>\n",
       "      <td>40</td>\n",
       "      <td>592062</td>\n",
       "      <td>588150</td>\n",
       "      <td>2021-11-10 14:06:50</td>\n",
       "      <td>10</td>\n",
       "      <td>14</td>\n",
       "    </tr>\n",
       "    <tr>\n",
       "      <th>4</th>\n",
       "      <td>2048</td>\n",
       "      <td>2.0</td>\n",
       "      <td>291.449219</td>\n",
       "      <td>0.120889</td>\n",
       "      <td>50</td>\n",
       "      <td>862765</td>\n",
       "      <td>863232</td>\n",
       "      <td>2021-11-10 14:07:01</td>\n",
       "      <td>10</td>\n",
       "      <td>14</td>\n",
       "    </tr>\n",
       "    <tr>\n",
       "      <th>...</th>\n",
       "      <td>...</td>\n",
       "      <td>...</td>\n",
       "      <td>...</td>\n",
       "      <td>...</td>\n",
       "      <td>...</td>\n",
       "      <td>...</td>\n",
       "      <td>...</td>\n",
       "      <td>...</td>\n",
       "      <td>...</td>\n",
       "      <td>...</td>\n",
       "    </tr>\n",
       "    <tr>\n",
       "      <th>27408</th>\n",
       "      <td>3328</td>\n",
       "      <td>1.0</td>\n",
       "      <td>793.230469</td>\n",
       "      <td>0.470948</td>\n",
       "      <td>80</td>\n",
       "      <td>1311496</td>\n",
       "      <td>1374454</td>\n",
       "      <td>2021-11-27 08:19:17</td>\n",
       "      <td>27</td>\n",
       "      <td>8</td>\n",
       "    </tr>\n",
       "    <tr>\n",
       "      <th>27409</th>\n",
       "      <td>3328</td>\n",
       "      <td>1.0</td>\n",
       "      <td>401.250000</td>\n",
       "      <td>0.248292</td>\n",
       "      <td>90</td>\n",
       "      <td>1663628</td>\n",
       "      <td>1793633</td>\n",
       "      <td>2021-11-27 08:19:29</td>\n",
       "      <td>27</td>\n",
       "      <td>8</td>\n",
       "    </tr>\n",
       "    <tr>\n",
       "      <th>27410</th>\n",
       "      <td>3328</td>\n",
       "      <td>1.0</td>\n",
       "      <td>407.312500</td>\n",
       "      <td>0.579697</td>\n",
       "      <td>100</td>\n",
       "      <td>4243770</td>\n",
       "      <td>4414612</td>\n",
       "      <td>2021-11-27 08:19:44</td>\n",
       "      <td>27</td>\n",
       "      <td>8</td>\n",
       "    </tr>\n",
       "    <tr>\n",
       "      <th>27411</th>\n",
       "      <td>3328</td>\n",
       "      <td>1.0</td>\n",
       "      <td>412.261719</td>\n",
       "      <td>0.475063</td>\n",
       "      <td>110</td>\n",
       "      <td>2152941</td>\n",
       "      <td>2262854</td>\n",
       "      <td>2021-11-27 08:19:56</td>\n",
       "      <td>27</td>\n",
       "      <td>8</td>\n",
       "    </tr>\n",
       "    <tr>\n",
       "      <th>27412</th>\n",
       "      <td>3328</td>\n",
       "      <td>1.0</td>\n",
       "      <td>412.542969</td>\n",
       "      <td>0.328475</td>\n",
       "      <td>120</td>\n",
       "      <td>2301817</td>\n",
       "      <td>2385211</td>\n",
       "      <td>2021-11-27 08:20:09</td>\n",
       "      <td>27</td>\n",
       "      <td>8</td>\n",
       "    </tr>\n",
       "  </tbody>\n",
       "</table>\n",
       "<p>27413 rows × 10 columns</p>\n",
       "</div>"
      ],
      "text/plain": [
       "       ram_limit  cpu_limit   ram_usage  cpu_usage    n     mean    lat50  \\\n",
       "0           2048        2.0   72.214844   0.003700   10   194402   210678   \n",
       "1           2048        2.0  133.757812   0.003700   20   301621   304027   \n",
       "2           2048        2.0  175.703125   0.052663   30   465659   465392   \n",
       "3           2048        2.0  207.597656   0.052663   40   592062   588150   \n",
       "4           2048        2.0  291.449219   0.120889   50   862765   863232   \n",
       "...          ...        ...         ...        ...  ...      ...      ...   \n",
       "27408       3328        1.0  793.230469   0.470948   80  1311496  1374454   \n",
       "27409       3328        1.0  401.250000   0.248292   90  1663628  1793633   \n",
       "27410       3328        1.0  407.312500   0.579697  100  4243770  4414612   \n",
       "27411       3328        1.0  412.261719   0.475063  110  2152941  2262854   \n",
       "27412       3328        1.0  412.542969   0.328475  120  2301817  2385211   \n",
       "\n",
       "                 datetime  day  hour  \n",
       "0     2021-11-10 14:06:18   10    14  \n",
       "1     2021-11-10 14:06:28   10    14  \n",
       "2     2021-11-10 14:06:39   10    14  \n",
       "3     2021-11-10 14:06:50   10    14  \n",
       "4     2021-11-10 14:07:01   10    14  \n",
       "...                   ...  ...   ...  \n",
       "27408 2021-11-27 08:19:17   27     8  \n",
       "27409 2021-11-27 08:19:29   27     8  \n",
       "27410 2021-11-27 08:19:44   27     8  \n",
       "27411 2021-11-27 08:19:56   27     8  \n",
       "27412 2021-11-27 08:20:09   27     8  \n",
       "\n",
       "[27413 rows x 10 columns]"
      ]
     },
     "execution_count": 16,
     "metadata": {},
     "output_type": "execute_result"
    }
   ],
   "source": [
    "# TO MODIFY\n",
    "df = pd.read_csv(\"./datasets/Benchmarking on Microservices Configurations and the Impact on the Performance in Cloud Native Environments/amf-performance.csv\")\n",
    "df['datetime'] = pd.to_datetime(df['time'], unit='s') # resample function needs a datetime column\n",
    "df = df.drop(['time', 'lat75', 'lat80', 'lat90', 'lat95', 'lat98', 'lat99', 'lat100'], axis=1)\n",
    "\n",
    "# additional features\n",
    "df['day'] = pd.DatetimeIndex(df['datetime']).day\n",
    "df['hour'] = pd.DatetimeIndex(df['datetime']).hour\n",
    "\n",
    "# Remove from ram_limit 'M' and convert the column to integer\n",
    "df['ram_limit'] = df['ram_limit'].str.replace('M', '').astype(int)\n",
    "\n",
    "# Convert ram usage from bytes to MB\n",
    "df['ram_usage'] = df['ram_usage'] / (1024 ** 2)\n",
    "\n",
    "df"
   ]
  },
  {
   "cell_type": "code",
   "execution_count": 17,
   "metadata": {},
   "outputs": [
    {
     "name": "stdout",
     "output_type": "stream",
     "text": [
      "The number of times ram_usage exceeds ram_limit is: 1528\n",
      "Percentage: 5.57%\n"
     ]
    }
   ],
   "source": [
    "# Count the occurrences where ram_usage > ram_limit\n",
    "count = (df['ram_usage'] > df['ram_limit']).sum()\n",
    "\n",
    "print(f\"The number of times ram_usage exceeds ram_limit is: {count}\")\n",
    "print(f\"Percentage: {count / len(df) * 100:.2f}%\")"
   ]
  },
  {
   "cell_type": "markdown",
   "metadata": {},
   "source": [
    "Remove the null values at the beginning"
   ]
  },
  {
   "cell_type": "code",
   "execution_count": 18,
   "metadata": {},
   "outputs": [
    {
     "data": {
      "text/html": [
       "<div>\n",
       "<style scoped>\n",
       "    .dataframe tbody tr th:only-of-type {\n",
       "        vertical-align: middle;\n",
       "    }\n",
       "\n",
       "    .dataframe tbody tr th {\n",
       "        vertical-align: top;\n",
       "    }\n",
       "\n",
       "    .dataframe thead th {\n",
       "        text-align: right;\n",
       "    }\n",
       "</style>\n",
       "<table border=\"1\" class=\"dataframe\">\n",
       "  <thead>\n",
       "    <tr style=\"text-align: right;\">\n",
       "      <th></th>\n",
       "      <th>ram_limit</th>\n",
       "      <th>cpu_limit</th>\n",
       "      <th>ram_usage</th>\n",
       "      <th>cpu_usage</th>\n",
       "      <th>n</th>\n",
       "      <th>mean</th>\n",
       "      <th>lat50</th>\n",
       "      <th>day</th>\n",
       "      <th>hour</th>\n",
       "    </tr>\n",
       "    <tr>\n",
       "      <th>datetime</th>\n",
       "      <th></th>\n",
       "      <th></th>\n",
       "      <th></th>\n",
       "      <th></th>\n",
       "      <th></th>\n",
       "      <th></th>\n",
       "      <th></th>\n",
       "      <th></th>\n",
       "      <th></th>\n",
       "    </tr>\n",
       "  </thead>\n",
       "  <tbody>\n",
       "    <tr>\n",
       "      <th>2021-11-12 15:00:00</th>\n",
       "      <td>4096.0</td>\n",
       "      <td>4.0</td>\n",
       "      <td>1147.921875</td>\n",
       "      <td>1.358302</td>\n",
       "      <td>520.0</td>\n",
       "      <td>67451009.0</td>\n",
       "      <td>67428077.0</td>\n",
       "      <td>12.0</td>\n",
       "      <td>15.0</td>\n",
       "    </tr>\n",
       "    <tr>\n",
       "      <th>2021-11-12 16:00:00</th>\n",
       "      <td>3584.0</td>\n",
       "      <td>4.0</td>\n",
       "      <td>1783.832031</td>\n",
       "      <td>1.385498</td>\n",
       "      <td>520.0</td>\n",
       "      <td>68222008.0</td>\n",
       "      <td>68162522.0</td>\n",
       "      <td>12.0</td>\n",
       "      <td>16.0</td>\n",
       "    </tr>\n",
       "    <tr>\n",
       "      <th>2021-11-12 17:00:00</th>\n",
       "      <td>3072.0</td>\n",
       "      <td>4.0</td>\n",
       "      <td>1762.128906</td>\n",
       "      <td>1.382358</td>\n",
       "      <td>550.0</td>\n",
       "      <td>77777013.0</td>\n",
       "      <td>77747786.0</td>\n",
       "      <td>12.0</td>\n",
       "      <td>17.0</td>\n",
       "    </tr>\n",
       "    <tr>\n",
       "      <th>2021-11-12 18:00:00</th>\n",
       "      <td>2304.0</td>\n",
       "      <td>4.0</td>\n",
       "      <td>1768.171875</td>\n",
       "      <td>1.358083</td>\n",
       "      <td>530.0</td>\n",
       "      <td>70557306.0</td>\n",
       "      <td>70546856.0</td>\n",
       "      <td>12.0</td>\n",
       "      <td>18.0</td>\n",
       "    </tr>\n",
       "    <tr>\n",
       "      <th>2021-11-12 19:00:00</th>\n",
       "      <td>1280.0</td>\n",
       "      <td>4.0</td>\n",
       "      <td>1684.777344</td>\n",
       "      <td>1.307712</td>\n",
       "      <td>520.0</td>\n",
       "      <td>68996878.0</td>\n",
       "      <td>68965997.0</td>\n",
       "      <td>12.0</td>\n",
       "      <td>19.0</td>\n",
       "    </tr>\n",
       "    <tr>\n",
       "      <th>...</th>\n",
       "      <td>...</td>\n",
       "      <td>...</td>\n",
       "      <td>...</td>\n",
       "      <td>...</td>\n",
       "      <td>...</td>\n",
       "      <td>...</td>\n",
       "      <td>...</td>\n",
       "      <td>...</td>\n",
       "      <td>...</td>\n",
       "    </tr>\n",
       "    <tr>\n",
       "      <th>2021-11-27 04:00:00</th>\n",
       "      <td>1280.0</td>\n",
       "      <td>2.0</td>\n",
       "      <td>1672.492188</td>\n",
       "      <td>1.323356</td>\n",
       "      <td>550.0</td>\n",
       "      <td>98065398.0</td>\n",
       "      <td>98048590.0</td>\n",
       "      <td>27.0</td>\n",
       "      <td>4.0</td>\n",
       "    </tr>\n",
       "    <tr>\n",
       "      <th>2021-11-27 05:00:00</th>\n",
       "      <td>4096.0</td>\n",
       "      <td>2.0</td>\n",
       "      <td>975.718750</td>\n",
       "      <td>1.257932</td>\n",
       "      <td>550.0</td>\n",
       "      <td>98199627.0</td>\n",
       "      <td>98221357.0</td>\n",
       "      <td>27.0</td>\n",
       "      <td>5.0</td>\n",
       "    </tr>\n",
       "    <tr>\n",
       "      <th>2021-11-27 06:00:00</th>\n",
       "      <td>3840.0</td>\n",
       "      <td>1.5</td>\n",
       "      <td>1751.023438</td>\n",
       "      <td>1.324840</td>\n",
       "      <td>550.0</td>\n",
       "      <td>96423698.0</td>\n",
       "      <td>96467143.0</td>\n",
       "      <td>27.0</td>\n",
       "      <td>6.0</td>\n",
       "    </tr>\n",
       "    <tr>\n",
       "      <th>2021-11-27 07:00:00</th>\n",
       "      <td>2816.0</td>\n",
       "      <td>1.5</td>\n",
       "      <td>933.203125</td>\n",
       "      <td>0.815902</td>\n",
       "      <td>190.0</td>\n",
       "      <td>15800009.0</td>\n",
       "      <td>15788169.0</td>\n",
       "      <td>27.0</td>\n",
       "      <td>7.0</td>\n",
       "    </tr>\n",
       "    <tr>\n",
       "      <th>2021-11-27 08:00:00</th>\n",
       "      <td>4096.0</td>\n",
       "      <td>1.0</td>\n",
       "      <td>794.789062</td>\n",
       "      <td>0.579697</td>\n",
       "      <td>120.0</td>\n",
       "      <td>4243770.0</td>\n",
       "      <td>4414612.0</td>\n",
       "      <td>27.0</td>\n",
       "      <td>8.0</td>\n",
       "    </tr>\n",
       "  </tbody>\n",
       "</table>\n",
       "<p>354 rows × 9 columns</p>\n",
       "</div>"
      ],
      "text/plain": [
       "                     ram_limit  cpu_limit    ram_usage  cpu_usage      n  \\\n",
       "datetime                                                                   \n",
       "2021-11-12 15:00:00     4096.0        4.0  1147.921875   1.358302  520.0   \n",
       "2021-11-12 16:00:00     3584.0        4.0  1783.832031   1.385498  520.0   \n",
       "2021-11-12 17:00:00     3072.0        4.0  1762.128906   1.382358  550.0   \n",
       "2021-11-12 18:00:00     2304.0        4.0  1768.171875   1.358083  530.0   \n",
       "2021-11-12 19:00:00     1280.0        4.0  1684.777344   1.307712  520.0   \n",
       "...                        ...        ...          ...        ...    ...   \n",
       "2021-11-27 04:00:00     1280.0        2.0  1672.492188   1.323356  550.0   \n",
       "2021-11-27 05:00:00     4096.0        2.0   975.718750   1.257932  550.0   \n",
       "2021-11-27 06:00:00     3840.0        1.5  1751.023438   1.324840  550.0   \n",
       "2021-11-27 07:00:00     2816.0        1.5   933.203125   0.815902  190.0   \n",
       "2021-11-27 08:00:00     4096.0        1.0   794.789062   0.579697  120.0   \n",
       "\n",
       "                           mean       lat50   day  hour  \n",
       "datetime                                                 \n",
       "2021-11-12 15:00:00  67451009.0  67428077.0  12.0  15.0  \n",
       "2021-11-12 16:00:00  68222008.0  68162522.0  12.0  16.0  \n",
       "2021-11-12 17:00:00  77777013.0  77747786.0  12.0  17.0  \n",
       "2021-11-12 18:00:00  70557306.0  70546856.0  12.0  18.0  \n",
       "2021-11-12 19:00:00  68996878.0  68965997.0  12.0  19.0  \n",
       "...                         ...         ...   ...   ...  \n",
       "2021-11-27 04:00:00  98065398.0  98048590.0  27.0   4.0  \n",
       "2021-11-27 05:00:00  98199627.0  98221357.0  27.0   5.0  \n",
       "2021-11-27 06:00:00  96423698.0  96467143.0  27.0   6.0  \n",
       "2021-11-27 07:00:00  15800009.0  15788169.0  27.0   7.0  \n",
       "2021-11-27 08:00:00   4243770.0   4414612.0  27.0   8.0  \n",
       "\n",
       "[354 rows x 9 columns]"
      ]
     },
     "execution_count": 18,
     "metadata": {},
     "output_type": "execute_result"
    }
   ],
   "source": [
    "# Set the filter condition based on the desired date and time\n",
    "df_copy = df.copy()\n",
    "df_copy['datetime'] = pd.to_datetime(df['datetime'])\n",
    "filter_condition = df_copy['datetime'] > '2021-11-12 14:00:00'\n",
    "\n",
    "# Apply the filter to get the subset of the DataFrame\n",
    "filtered_df = df_copy[filter_condition]\n",
    "\n",
    "# Resample the data based on the frequency\n",
    "frequency = '1h'\n",
    "df_max = filtered_df.resample(frequency, on='datetime').max()\n",
    "\n",
    "df_max"
   ]
  },
  {
   "cell_type": "code",
   "execution_count": 19,
   "metadata": {},
   "outputs": [
    {
     "data": {
      "image/png": "[encoded data removed]",
      "text/plain": [
       "<Figure size 1600x500 with 2 Axes>"
      ]
     },
     "metadata": {},
     "output_type": "display_data"
    }
   ],
   "source": [
    "f, ax = plt.subplots(nrows=1, ncols=1, figsize=(16,5))\n",
    "\n",
    "sns.heatmap(df_max.iloc[:,2:-1].T.isna(), cmap='Blues') #drop useless columns\n",
    "ax.set_title('Missing Values', fontsize=16)\n",
    "\n",
    "# Rotate y-axis labels\n",
    "ax.set_yticklabels(ax.get_yticklabels(), rotation=0)  # Set the rotation angle as needed\n",
    "\n",
    "for tick in ax.yaxis.get_major_ticks():\n",
    "    tick.label1.set_fontsize(14)\n",
    "plt.show()"
   ]
  },
  {
   "cell_type": "markdown",
   "metadata": {},
   "source": [
    "Interpolate to fill the null values in the df"
   ]
  },
  {
   "cell_type": "code",
   "execution_count": 20,
   "metadata": {},
   "outputs": [
    {
     "name": "stdout",
     "output_type": "stream",
     "text": [
      "Frequency: 1h\n",
      "N. null: 6 \n",
      "% null over total: 1.69%\n"
     ]
    },
    {
     "name": "stderr",
     "output_type": "stream",
     "text": [
      "C:\\Users\\Alice Piemonti\\AppData\\Local\\Temp\\ipykernel_35056\\61170822.py:1: FutureWarning: Series.__getitem__ treating keys as positions is deprecated. In a future version, integer keys will always be treated as labels (consistent with DataFrame behavior). To access a value by position, use `ser.iloc[pos]`\n",
      "  print(f\"Frequency: {frequency}\\nN. null: {df_max.isna().sum()[0]} \\n% null over total: {df_max.isna().sum()[0]/len(df_max)*100:.2f}%\")\n"
     ]
    }
   ],
   "source": [
    "print(f\"Frequency: {frequency}\\nN. null: {df_max.isna().sum()[0]} \\n% null over total: {df_max.isna().sum()[0]/len(df_max)*100:.2f}%\")"
   ]
  },
  {
   "cell_type": "code",
   "execution_count": 21,
   "metadata": {},
   "outputs": [
    {
     "data": {
      "text/plain": [
       "ram_limit    0\n",
       "cpu_limit    0\n",
       "ram_usage    0\n",
       "cpu_usage    0\n",
       "n            0\n",
       "mean         0\n",
       "lat50        0\n",
       "day          0\n",
       "hour         0\n",
       "dtype: int64"
      ]
     },
     "execution_count": 21,
     "metadata": {},
     "output_type": "execute_result"
    }
   ],
   "source": [
    "interpolated_df = df_max.interpolate()\n",
    "interpolated_df.isna().sum()"
   ]
  },
  {
   "cell_type": "markdown",
   "metadata": {},
   "source": [
    "## LSTM multivariate forecasting"
   ]
  },
  {
   "cell_type": "markdown",
   "metadata": {},
   "source": [
    "Forecast multiple related time series simultaneously. Related time series here are: 'cpu_usage', 'ram_usage', 'cpu_limit', 'ram_limit'"
   ]
  },
  {
   "cell_type": "code",
   "execution_count": 22,
   "metadata": {},
   "outputs": [
    {
     "data": {
      "text/plain": [
       "Timestamp('2021-11-22 22:00:00')"
      ]
     },
     "execution_count": 22,
     "metadata": {},
     "output_type": "execute_result"
    }
   ],
   "source": [
    "# define train and test size\n",
    "train_size = int(0.7 * len(interpolated_df))\n",
    "test_size = len(interpolated_df) - train_size\n",
    "\n",
    "split_point = interpolated_df.iloc[train_size].name\n",
    "split_point"
   ]
  },
  {
   "cell_type": "markdown",
   "metadata": {},
   "source": [
    "### Forecast RAM usage using covariates\n",
    "\n",
    "Training with covariates means using additional information (covariates) that may help improve the accuracy of the forecast for the main time series of interest. These covariates are external variables that are not being forecasted themselves but are used to inform the forecast of the primary series.\n",
    "\n",
    "In this example covariates are: 'ram_limit', 'cpu_limit', 'ram_usage', 'n', 'mean', 'lat50', 'day', 'hour'\n",
    "\n",
    "N.B. this is an example of how to use covariates. You can't use covariates this way in a real world scenario because future ram_limit, cpu_usage, [...], are not known in advance and must be forecasted first."
   ]
  },
  {
   "cell_type": "code",
   "execution_count": 23,
   "metadata": {},
   "outputs": [
    {
     "data": {
      "text/html": [
       "<div><svg style=\"position: absolute; width: 0; height: 0; overflow: hidden\">\n",
       "<defs>\n",
       "<symbol id=\"icon-database\" viewBox=\"0 0 32 32\">\n",
       "<path d=\"M16 0c-8.837 0-16 2.239-16 5v4c0 2.761 7.163 5 16 5s16-2.239 16-5v-4c0-2.761-7.163-5-16-5z\"></path>\n",
       "<path d=\"M16 17c-8.837 0-16-2.239-16-5v6c0 2.761 7.163 5 16 5s16-2.239 16-5v-6c0 2.761-7.163 5-16 5z\"></path>\n",
       "<path d=\"M16 26c-8.837 0-16-2.239-16-5v6c0 2.761 7.163 5 16 5s16-2.239 16-5v-6c0 2.761-7.163 5-16 5z\"></path>\n",
       "</symbol>\n",
       "<symbol id=\"icon-file-text2\" viewBox=\"0 0 32 32\">\n",
       "<path d=\"M28.681 7.159c-0.694-0.947-1.662-2.053-2.724-3.116s-2.169-2.030-3.116-2.724c-1.612-1.182-2.393-1.319-2.841-1.319h-15.5c-1.378 0-2.5 1.121-2.5 2.5v27c0 1.378 1.122 2.5 2.5 2.5h23c1.378 0 2.5-1.122 2.5-2.5v-19.5c0-0.448-0.137-1.23-1.319-2.841zM24.543 5.457c0.959 0.959 1.712 1.825 2.268 2.543h-4.811v-4.811c0.718 0.556 1.584 1.309 2.543 2.268zM28 29.5c0 0.271-0.229 0.5-0.5 0.5h-23c-0.271 0-0.5-0.229-0.5-0.5v-27c0-0.271 0.229-0.5 0.5-0.5 0 0 15.499-0 15.5 0v7c0 0.552 0.448 1 1 1h7v19.5z\"></path>\n",
       "<path d=\"M23 26h-14c-0.552 0-1-0.448-1-1s0.448-1 1-1h14c0.552 0 1 0.448 1 1s-0.448 1-1 1z\"></path>\n",
       "<path d=\"M23 22h-14c-0.552 0-1-0.448-1-1s0.448-1 1-1h14c0.552 0 1 0.448 1 1s-0.448 1-1 1z\"></path>\n",
       "<path d=\"M23 18h-14c-0.552 0-1-0.448-1-1s0.448-1 1-1h14c0.552 0 1 0.448 1 1s-0.448 1-1 1z\"></path>\n",
       "</symbol>\n",
       "</defs>\n",
       "</svg>\n",
       "<style>/* CSS stylesheet for displaying xarray objects in jupyterlab.\n",
       " *\n",
       " */\n",
       "\n",
       ":root {\n",
       "  --xr-font-color0: var(--jp-content-font-color0, rgba(0, 0, 0, 1));\n",
       "  --xr-font-color2: var(--jp-content-font-color2, rgba(0, 0, 0, 0.54));\n",
       "  --xr-font-color3: var(--jp-content-font-color3, rgba(0, 0, 0, 0.38));\n",
       "  --xr-border-color: var(--jp-border-color2, #e0e0e0);\n",
       "  --xr-disabled-color: var(--jp-layout-color3, #bdbdbd);\n",
       "  --xr-background-color: var(--jp-layout-color0, white);\n",
       "  --xr-background-color-row-even: var(--jp-layout-color1, white);\n",
       "  --xr-background-color-row-odd: var(--jp-layout-color2, #eeeeee);\n",
       "}\n",
       "\n",
       "html[theme=dark],\n",
       "body[data-theme=dark],\n",
       "body.vscode-dark {\n",
       "  --xr-font-color0: rgba(255, 255, 255, 1);\n",
       "  --xr-font-color2: rgba(255, 255, 255, 0.54);\n",
       "  --xr-font-color3: rgba(255, 255, 255, 0.38);\n",
       "  --xr-border-color: #1F1F1F;\n",
       "  --xr-disabled-color: #515151;\n",
       "  --xr-background-color: #111111;\n",
       "  --xr-background-color-row-even: #111111;\n",
       "  --xr-background-color-row-odd: #313131;\n",
       "}\n",
       "\n",
       ".xr-wrap {\n",
       "  display: block !important;\n",
       "  min-width: 300px;\n",
       "  max-width: 700px;\n",
       "}\n",
       "\n",
       ".xr-text-repr-fallback {\n",
       "  /* fallback to plain text repr when CSS is not injected (untrusted notebook) */\n",
       "  display: none;\n",
       "}\n",
       "\n",
       ".xr-header {\n",
       "  padding-top: 6px;\n",
       "  padding-bottom: 6px;\n",
       "  margin-bottom: 4px;\n",
       "  border-bottom: solid 1px var(--xr-border-color);\n",
       "}\n",
       "\n",
       ".xr-header > div,\n",
       ".xr-header > ul {\n",
       "  display: inline;\n",
       "  margin-top: 0;\n",
       "  margin-bottom: 0;\n",
       "}\n",
       "\n",
       ".xr-obj-type,\n",
       ".xr-array-name {\n",
       "  margin-left: 2px;\n",
       "  margin-right: 10px;\n",
       "}\n",
       "\n",
       ".xr-obj-type {\n",
       "  color: var(--xr-font-color2);\n",
       "}\n",
       "\n",
       ".xr-sections {\n",
       "  padding-left: 0 !important;\n",
       "  display: grid;\n",
       "  grid-template-columns: 150px auto auto 1fr 20px 20px;\n",
       "}\n",
       "\n",
       ".xr-section-item {\n",
       "  display: contents;\n",
       "}\n",
       "\n",
       ".xr-section-item input {\n",
       "  display: none;\n",
       "}\n",
       "\n",
       ".xr-section-item input + label {\n",
       "  color: var(--xr-disabled-color);\n",
       "}\n",
       "\n",
       ".xr-section-item input:enabled + label {\n",
       "  cursor: pointer;\n",
       "  color: var(--xr-font-color2);\n",
       "}\n",
       "\n",
       ".xr-section-item input:enabled + label:hover {\n",
       "  color: var(--xr-font-color0);\n",
       "}\n",
       "\n",
       ".xr-section-summary {\n",
       "  grid-column: 1;\n",
       "  color: var(--xr-font-color2);\n",
       "  font-weight: 500;\n",
       "}\n",
       "\n",
       ".xr-section-summary > span {\n",
       "  display: inline-block;\n",
       "  padding-left: 0.5em;\n",
       "}\n",
       "\n",
       ".xr-section-summary-in:disabled + label {\n",
       "  color: var(--xr-font-color2);\n",
       "}\n",
       "\n",
       ".xr-section-summary-in + label:before {\n",
       "  display: inline-block;\n",
       "  content: '►';\n",
       "  font-size: 11px;\n",
       "  width: 15px;\n",
       "  text-align: center;\n",
       "}\n",
       "\n",
       ".xr-section-summary-in:disabled + label:before {\n",
       "  color: var(--xr-disabled-color);\n",
       "}\n",
       "\n",
       ".xr-section-summary-in:checked + label:before {\n",
       "  content: '▼';\n",
       "}\n",
       "\n",
       ".xr-section-summary-in:checked + label > span {\n",
       "  display: none;\n",
       "}\n",
       "\n",
       ".xr-section-summary,\n",
       ".xr-section-inline-details {\n",
       "  padding-top: 4px;\n",
       "  padding-bottom: 4px;\n",
       "}\n",
       "\n",
       ".xr-section-inline-details {\n",
       "  grid-column: 2 / -1;\n",
       "}\n",
       "\n",
       ".xr-section-details {\n",
       "  display: none;\n",
       "  grid-column: 1 / -1;\n",
       "  margin-bottom: 5px;\n",
       "}\n",
       "\n",
       ".xr-section-summary-in:checked ~ .xr-section-details {\n",
       "  display: contents;\n",
       "}\n",
       "\n",
       ".xr-array-wrap {\n",
       "  grid-column: 1 / -1;\n",
       "  display: grid;\n",
       "  grid-template-columns: 20px auto;\n",
       "}\n",
       "\n",
       ".xr-array-wrap > label {\n",
       "  grid-column: 1;\n",
       "  vertical-align: top;\n",
       "}\n",
       "\n",
       ".xr-preview {\n",
       "  color: var(--xr-font-color3);\n",
       "}\n",
       "\n",
       ".xr-array-preview,\n",
       ".xr-array-data {\n",
       "  padding: 0 5px !important;\n",
       "  grid-column: 2;\n",
       "}\n",
       "\n",
       ".xr-array-data,\n",
       ".xr-array-in:checked ~ .xr-array-preview {\n",
       "  display: none;\n",
       "}\n",
       "\n",
       ".xr-array-in:checked ~ .xr-array-data,\n",
       ".xr-array-preview {\n",
       "  display: inline-block;\n",
       "}\n",
       "\n",
       ".xr-dim-list {\n",
       "  display: inline-block !important;\n",
       "  list-style: none;\n",
       "  padding: 0 !important;\n",
       "  margin: 0;\n",
       "}\n",
       "\n",
       ".xr-dim-list li {\n",
       "  display: inline-block;\n",
       "  padding: 0;\n",
       "  margin: 0;\n",
       "}\n",
       "\n",
       ".xr-dim-list:before {\n",
       "  content: '(';\n",
       "}\n",
       "\n",
       ".xr-dim-list:after {\n",
       "  content: ')';\n",
       "}\n",
       "\n",
       ".xr-dim-list li:not(:last-child):after {\n",
       "  content: ',';\n",
       "  padding-right: 5px;\n",
       "}\n",
       "\n",
       ".xr-has-index {\n",
       "  font-weight: bold;\n",
       "}\n",
       "\n",
       ".xr-var-list,\n",
       ".xr-var-item {\n",
       "  display: contents;\n",
       "}\n",
       "\n",
       ".xr-var-item > div,\n",
       ".xr-var-item label,\n",
       ".xr-var-item > .xr-var-name span {\n",
       "  background-color: var(--xr-background-color-row-even);\n",
       "  margin-bottom: 0;\n",
       "}\n",
       "\n",
       ".xr-var-item > .xr-var-name:hover span {\n",
       "  padding-right: 5px;\n",
       "}\n",
       "\n",
       ".xr-var-list > li:nth-child(odd) > div,\n",
       ".xr-var-list > li:nth-child(odd) > label,\n",
       ".xr-var-list > li:nth-child(odd) > .xr-var-name span {\n",
       "  background-color: var(--xr-background-color-row-odd);\n",
       "}\n",
       "\n",
       ".xr-var-name {\n",
       "  grid-column: 1;\n",
       "}\n",
       "\n",
       ".xr-var-dims {\n",
       "  grid-column: 2;\n",
       "}\n",
       "\n",
       ".xr-var-dtype {\n",
       "  grid-column: 3;\n",
       "  text-align: right;\n",
       "  color: var(--xr-font-color2);\n",
       "}\n",
       "\n",
       ".xr-var-preview {\n",
       "  grid-column: 4;\n",
       "}\n",
       "\n",
       ".xr-index-preview {\n",
       "  grid-column: 2 / 5;\n",
       "  color: var(--xr-font-color2);\n",
       "}\n",
       "\n",
       ".xr-var-name,\n",
       ".xr-var-dims,\n",
       ".xr-var-dtype,\n",
       ".xr-preview,\n",
       ".xr-attrs dt {\n",
       "  white-space: nowrap;\n",
       "  overflow: hidden;\n",
       "  text-overflow: ellipsis;\n",
       "  padding-right: 10px;\n",
       "}\n",
       "\n",
       ".xr-var-name:hover,\n",
       ".xr-var-dims:hover,\n",
       ".xr-var-dtype:hover,\n",
       ".xr-attrs dt:hover {\n",
       "  overflow: visible;\n",
       "  width: auto;\n",
       "  z-index: 1;\n",
       "}\n",
       "\n",
       ".xr-var-attrs,\n",
       ".xr-var-data,\n",
       ".xr-index-data {\n",
       "  display: none;\n",
       "  background-color: var(--xr-background-color) !important;\n",
       "  padding-bottom: 5px !important;\n",
       "}\n",
       "\n",
       ".xr-var-attrs-in:checked ~ .xr-var-attrs,\n",
       ".xr-var-data-in:checked ~ .xr-var-data,\n",
       ".xr-index-data-in:checked ~ .xr-index-data {\n",
       "  display: block;\n",
       "}\n",
       "\n",
       ".xr-var-data > table {\n",
       "  float: right;\n",
       "}\n",
       "\n",
       ".xr-var-name span,\n",
       ".xr-var-data,\n",
       ".xr-index-name div,\n",
       ".xr-index-data,\n",
       ".xr-attrs {\n",
       "  padding-left: 25px !important;\n",
       "}\n",
       "\n",
       ".xr-attrs,\n",
       ".xr-var-attrs,\n",
       ".xr-var-data,\n",
       ".xr-index-data {\n",
       "  grid-column: 1 / -1;\n",
       "}\n",
       "\n",
       "dl.xr-attrs {\n",
       "  padding: 0;\n",
       "  margin: 0;\n",
       "  display: grid;\n",
       "  grid-template-columns: 125px auto;\n",
       "}\n",
       "\n",
       ".xr-attrs dt,\n",
       ".xr-attrs dd {\n",
       "  padding: 0;\n",
       "  margin: 0;\n",
       "  float: left;\n",
       "  padding-right: 10px;\n",
       "  width: auto;\n",
       "}\n",
       "\n",
       ".xr-attrs dt {\n",
       "  font-weight: normal;\n",
       "  grid-column: 1;\n",
       "}\n",
       "\n",
       ".xr-attrs dt:hover span {\n",
       "  display: inline-block;\n",
       "  background: var(--xr-background-color);\n",
       "  padding-right: 10px;\n",
       "}\n",
       "\n",
       ".xr-attrs dd {\n",
       "  grid-column: 2;\n",
       "  white-space: pre-wrap;\n",
       "  word-break: break-all;\n",
       "}\n",
       "\n",
       ".xr-icon-database,\n",
       ".xr-icon-file-text2,\n",
       ".xr-no-icon {\n",
       "  display: inline-block;\n",
       "  vertical-align: middle;\n",
       "  width: 1em;\n",
       "  height: 1.5em !important;\n",
       "  stroke-width: 0;\n",
       "  stroke: currentColor;\n",
       "  fill: currentColor;\n",
       "}\n",
       "</style><pre class='xr-text-repr-fallback'>&lt;TimeSeries (DataArray) (datetime: 354, component: 8, sample: 1)&gt; Size: 23kB\n",
       "array([[[4.0960000e+03],\n",
       "        [4.0000000e+00],\n",
       "        [1.3583020e+00],\n",
       "        ...,\n",
       "        [6.7428077e+07],\n",
       "        [1.2000000e+01],\n",
       "        [1.5000000e+01]],\n",
       "\n",
       "       [[3.5840000e+03],\n",
       "        [4.0000000e+00],\n",
       "        [1.3854980e+00],\n",
       "        ...,\n",
       "        [6.8162522e+07],\n",
       "        [1.2000000e+01],\n",
       "        [1.6000000e+01]],\n",
       "\n",
       "       [[3.0720000e+03],\n",
       "        [4.0000000e+00],\n",
       "        [1.3823580e+00],\n",
       "        ...,\n",
       "...\n",
       "        ...,\n",
       "        [9.6467143e+07],\n",
       "        [2.7000000e+01],\n",
       "        [6.0000000e+00]],\n",
       "\n",
       "       [[2.8160000e+03],\n",
       "        [1.5000000e+00],\n",
       "        [8.1590200e-01],\n",
       "        ...,\n",
       "        [1.5788169e+07],\n",
       "        [2.7000000e+01],\n",
       "        [7.0000000e+00]],\n",
       "\n",
       "       [[4.0960000e+03],\n",
       "        [1.0000000e+00],\n",
       "        [5.7969700e-01],\n",
       "        ...,\n",
       "        [4.4146120e+06],\n",
       "        [2.7000000e+01],\n",
       "        [8.0000000e+00]]])\n",
       "Coordinates:\n",
       "  * datetime   (datetime) datetime64[ns] 3kB 2021-11-12T15:00:00 ... 2021-11-...\n",
       "  * component  (component) object 64B &#x27;ram_limit&#x27; &#x27;cpu_limit&#x27; ... &#x27;day&#x27; &#x27;hour&#x27;\n",
       "Dimensions without coordinates: sample\n",
       "Attributes:\n",
       "    static_covariates:  None\n",
       "    hierarchy:          None</pre><div class='xr-wrap' style='display:none'><div class='xr-header'><div class='xr-obj-type'>TimeSeries (DataArray)</div><div class='xr-array-name'></div><ul class='xr-dim-list'><li><span class='xr-has-index'>datetime</span>: 354</li><li><span class='xr-has-index'>component</span>: 8</li><li><span>sample</span>: 1</li></ul></div><ul class='xr-sections'><li class='xr-section-item'><div class='xr-array-wrap'><input id='section-80c454da-e348-44a3-a04d-8b8a126699d6' class='xr-array-in' type='checkbox' checked><label for='section-80c454da-e348-44a3-a04d-8b8a126699d6' title='Show/hide data repr'><svg class='icon xr-icon-database'><use xlink:href='#icon-database'></use></svg></label><div class='xr-array-preview xr-preview'><span>4.096e+03 4.0 1.358 520.0 6.745e+07 ... 4.244e+06 4.415e+06 27.0 8.0</span></div><div class='xr-array-data'><pre>array([[[4.0960000e+03],\n",
       "        [4.0000000e+00],\n",
       "        [1.3583020e+00],\n",
       "        ...,\n",
       "        [6.7428077e+07],\n",
       "        [1.2000000e+01],\n",
       "        [1.5000000e+01]],\n",
       "\n",
       "       [[3.5840000e+03],\n",
       "        [4.0000000e+00],\n",
       "        [1.3854980e+00],\n",
       "        ...,\n",
       "        [6.8162522e+07],\n",
       "        [1.2000000e+01],\n",
       "        [1.6000000e+01]],\n",
       "\n",
       "       [[3.0720000e+03],\n",
       "        [4.0000000e+00],\n",
       "        [1.3823580e+00],\n",
       "        ...,\n",
       "...\n",
       "        ...,\n",
       "        [9.6467143e+07],\n",
       "        [2.7000000e+01],\n",
       "        [6.0000000e+00]],\n",
       "\n",
       "       [[2.8160000e+03],\n",
       "        [1.5000000e+00],\n",
       "        [8.1590200e-01],\n",
       "        ...,\n",
       "        [1.5788169e+07],\n",
       "        [2.7000000e+01],\n",
       "        [7.0000000e+00]],\n",
       "\n",
       "       [[4.0960000e+03],\n",
       "        [1.0000000e+00],\n",
       "        [5.7969700e-01],\n",
       "        ...,\n",
       "        [4.4146120e+06],\n",
       "        [2.7000000e+01],\n",
       "        [8.0000000e+00]]])</pre></div></div></li><li class='xr-section-item'><input id='section-32de898d-4fb6-4734-889d-1dd6191d88d9' class='xr-section-summary-in' type='checkbox'  checked><label for='section-32de898d-4fb6-4734-889d-1dd6191d88d9' class='xr-section-summary' >Coordinates: <span>(2)</span></label><div class='xr-section-inline-details'></div><div class='xr-section-details'><ul class='xr-var-list'><li class='xr-var-item'><div class='xr-var-name'><span class='xr-has-index'>datetime</span></div><div class='xr-var-dims'>(datetime)</div><div class='xr-var-dtype'>datetime64[ns]</div><div class='xr-var-preview xr-preview'>2021-11-12T15:00:00 ... 2021-11-...</div><input id='attrs-e3ef205a-1ae6-4e1f-a5e6-563a02279686' class='xr-var-attrs-in' type='checkbox' disabled><label for='attrs-e3ef205a-1ae6-4e1f-a5e6-563a02279686' title='Show/Hide attributes'><svg class='icon xr-icon-file-text2'><use xlink:href='#icon-file-text2'></use></svg></label><input id='data-f6d4d8f2-93cf-4782-9dfc-d21317fdba7d' class='xr-var-data-in' type='checkbox'><label for='data-f6d4d8f2-93cf-4782-9dfc-d21317fdba7d' title='Show/Hide data repr'><svg class='icon xr-icon-database'><use xlink:href='#icon-database'></use></svg></label><div class='xr-var-attrs'><dl class='xr-attrs'></dl></div><div class='xr-var-data'><pre>array([&#x27;2021-11-12T15:00:00.000000000&#x27;, &#x27;2021-11-12T16:00:00.000000000&#x27;,\n",
       "       &#x27;2021-11-12T17:00:00.000000000&#x27;, ..., &#x27;2021-11-27T06:00:00.000000000&#x27;,\n",
       "       &#x27;2021-11-27T07:00:00.000000000&#x27;, &#x27;2021-11-27T08:00:00.000000000&#x27;],\n",
       "      dtype=&#x27;datetime64[ns]&#x27;)</pre></div></li><li class='xr-var-item'><div class='xr-var-name'><span class='xr-has-index'>component</span></div><div class='xr-var-dims'>(component)</div><div class='xr-var-dtype'>object</div><div class='xr-var-preview xr-preview'>&#x27;ram_limit&#x27; &#x27;cpu_limit&#x27; ... &#x27;hour&#x27;</div><input id='attrs-238cd95b-23b2-4b78-b0bb-08088169e3b8' class='xr-var-attrs-in' type='checkbox' disabled><label for='attrs-238cd95b-23b2-4b78-b0bb-08088169e3b8' title='Show/Hide attributes'><svg class='icon xr-icon-file-text2'><use xlink:href='#icon-file-text2'></use></svg></label><input id='data-81280135-4535-41d5-8b41-43ad545aad93' class='xr-var-data-in' type='checkbox'><label for='data-81280135-4535-41d5-8b41-43ad545aad93' title='Show/Hide data repr'><svg class='icon xr-icon-database'><use xlink:href='#icon-database'></use></svg></label><div class='xr-var-attrs'><dl class='xr-attrs'></dl></div><div class='xr-var-data'><pre>array([&#x27;ram_limit&#x27;, &#x27;cpu_limit&#x27;, &#x27;cpu_usage&#x27;, &#x27;n&#x27;, &#x27;mean&#x27;, &#x27;lat50&#x27;, &#x27;day&#x27;,\n",
       "       &#x27;hour&#x27;], dtype=object)</pre></div></li></ul></div></li><li class='xr-section-item'><input id='section-2f6cfaf9-32bf-4fd6-8037-03cd8d5ee260' class='xr-section-summary-in' type='checkbox'  ><label for='section-2f6cfaf9-32bf-4fd6-8037-03cd8d5ee260' class='xr-section-summary' >Indexes: <span>(2)</span></label><div class='xr-section-inline-details'></div><div class='xr-section-details'><ul class='xr-var-list'><li class='xr-var-item'><div class='xr-index-name'><div>datetime</div></div><div class='xr-index-preview'>PandasIndex</div><div></div><input id='index-3396980c-d239-4090-9d75-799372713f96' class='xr-index-data-in' type='checkbox'/><label for='index-3396980c-d239-4090-9d75-799372713f96' title='Show/Hide index repr'><svg class='icon xr-icon-database'><use xlink:href='#icon-database'></use></svg></label><div class='xr-index-data'><pre>PandasIndex(DatetimeIndex([&#x27;2021-11-12 15:00:00&#x27;, &#x27;2021-11-12 16:00:00&#x27;,\n",
       "               &#x27;2021-11-12 17:00:00&#x27;, &#x27;2021-11-12 18:00:00&#x27;,\n",
       "               &#x27;2021-11-12 19:00:00&#x27;, &#x27;2021-11-12 20:00:00&#x27;,\n",
       "               &#x27;2021-11-12 21:00:00&#x27;, &#x27;2021-11-12 22:00:00&#x27;,\n",
       "               &#x27;2021-11-12 23:00:00&#x27;, &#x27;2021-11-13 00:00:00&#x27;,\n",
       "               ...\n",
       "               &#x27;2021-11-26 23:00:00&#x27;, &#x27;2021-11-27 00:00:00&#x27;,\n",
       "               &#x27;2021-11-27 01:00:00&#x27;, &#x27;2021-11-27 02:00:00&#x27;,\n",
       "               &#x27;2021-11-27 03:00:00&#x27;, &#x27;2021-11-27 04:00:00&#x27;,\n",
       "               &#x27;2021-11-27 05:00:00&#x27;, &#x27;2021-11-27 06:00:00&#x27;,\n",
       "               &#x27;2021-11-27 07:00:00&#x27;, &#x27;2021-11-27 08:00:00&#x27;],\n",
       "              dtype=&#x27;datetime64[ns]&#x27;, name=&#x27;datetime&#x27;, length=354, freq=&#x27;H&#x27;))</pre></div></li><li class='xr-var-item'><div class='xr-index-name'><div>component</div></div><div class='xr-index-preview'>PandasIndex</div><div></div><input id='index-11de96ae-6e5d-40cc-9248-a6f162d6f5ca' class='xr-index-data-in' type='checkbox'/><label for='index-11de96ae-6e5d-40cc-9248-a6f162d6f5ca' title='Show/Hide index repr'><svg class='icon xr-icon-database'><use xlink:href='#icon-database'></use></svg></label><div class='xr-index-data'><pre>PandasIndex(Index([&#x27;ram_limit&#x27;, &#x27;cpu_limit&#x27;, &#x27;cpu_usage&#x27;, &#x27;n&#x27;, &#x27;mean&#x27;, &#x27;lat50&#x27;, &#x27;day&#x27;,\n",
       "       &#x27;hour&#x27;],\n",
       "      dtype=&#x27;object&#x27;, name=&#x27;component&#x27;))</pre></div></li></ul></div></li><li class='xr-section-item'><input id='section-59dc7f98-6812-4f69-8e58-6edef4948c91' class='xr-section-summary-in' type='checkbox'  checked><label for='section-59dc7f98-6812-4f69-8e58-6edef4948c91' class='xr-section-summary' >Attributes: <span>(2)</span></label><div class='xr-section-inline-details'></div><div class='xr-section-details'><dl class='xr-attrs'><dt><span>static_covariates :</span></dt><dd>None</dd><dt><span>hierarchy :</span></dt><dd>None</dd></dl></div></li></ul></div></div>"
      ],
      "text/plain": [
       "<TimeSeries (DataArray) (datetime: 354, component: 8, sample: 1)> Size: 23kB\n",
       "array([[[4.0960000e+03],\n",
       "        [4.0000000e+00],\n",
       "        [1.3583020e+00],\n",
       "        ...,\n",
       "        [6.7428077e+07],\n",
       "        [1.2000000e+01],\n",
       "        [1.5000000e+01]],\n",
       "\n",
       "       [[3.5840000e+03],\n",
       "        [4.0000000e+00],\n",
       "        [1.3854980e+00],\n",
       "        ...,\n",
       "        [6.8162522e+07],\n",
       "        [1.2000000e+01],\n",
       "        [1.6000000e+01]],\n",
       "\n",
       "       [[3.0720000e+03],\n",
       "        [4.0000000e+00],\n",
       "        [1.3823580e+00],\n",
       "        ...,\n",
       "...\n",
       "        ...,\n",
       "        [9.6467143e+07],\n",
       "        [2.7000000e+01],\n",
       "        [6.0000000e+00]],\n",
       "\n",
       "       [[2.8160000e+03],\n",
       "        [1.5000000e+00],\n",
       "        [8.1590200e-01],\n",
       "        ...,\n",
       "        [1.5788169e+07],\n",
       "        [2.7000000e+01],\n",
       "        [7.0000000e+00]],\n",
       "\n",
       "       [[4.0960000e+03],\n",
       "        [1.0000000e+00],\n",
       "        [5.7969700e-01],\n",
       "        ...,\n",
       "        [4.4146120e+06],\n",
       "        [2.7000000e+01],\n",
       "        [8.0000000e+00]]])\n",
       "Coordinates:\n",
       "  * datetime   (datetime) datetime64[ns] 3kB 2021-11-12T15:00:00 ... 2021-11-...\n",
       "  * component  (component) object 64B 'ram_limit' 'cpu_limit' ... 'day' 'hour'\n",
       "Dimensions without coordinates: sample\n",
       "Attributes:\n",
       "    static_covariates:  None\n",
       "    hierarchy:          None"
      ]
     },
     "execution_count": 23,
     "metadata": {},
     "output_type": "execute_result"
    }
   ],
   "source": [
    "# create covariates\n",
    "covariates = interpolated_df.drop(columns=['ram_usage'])\n",
    "covariates = TimeSeries.from_dataframe(covariates.reset_index(), 'datetime')\n",
    "covariates"
   ]
  },
  {
   "cell_type": "code",
   "execution_count": 24,
   "metadata": {},
   "outputs": [
    {
     "data": {
      "text/plain": [
       "Index(['ram_limit', 'cpu_limit', 'cpu_usage', 'n', 'mean', 'lat50', 'day',\n",
       "       'hour'],\n",
       "      dtype='object', name='component')"
      ]
     },
     "execution_count": 24,
     "metadata": {},
     "output_type": "execute_result"
    }
   ],
   "source": [
    "covariates.components"
   ]
  },
  {
   "cell_type": "code",
   "execution_count": 25,
   "metadata": {},
   "outputs": [],
   "source": [
    "# define target series to forecast\n",
    "series = TimeSeries.from_dataframe(interpolated_df.reset_index(), 'datetime', ['ram_usage'])\n",
    "\n",
    "# train test split\n",
    "train, test = series.split_after(split_point)\n",
    "cov_train, cov_test = covariates.split_after(split_point)\n",
    "\n",
    "# Normalize the time series (note: we avoid fitting the transformer on the validation set)\n",
    "transformer = Scaler()\n",
    "train_transformed = transformer.fit_transform(train)\n",
    "val_transformed = transformer.transform(test)\n",
    "series_transformed = transformer.transform(series)\n",
    "\n",
    "transformer_cov = Scaler()\n",
    "cov_train = transformer_cov.fit_transform(cov_train)\n",
    "cov_test = transformer_cov.transform(cov_test)\n",
    "covariates_transformed = transformer_cov.transform(covariates)"
   ]
  },
  {
   "cell_type": "code",
   "execution_count": 30,
   "metadata": {},
   "outputs": [
    {
     "name": "stderr",
     "output_type": "stream",
     "text": [
      "GPU available: False, used: False\n",
      "TPU available: False, using: 0 TPU cores\n",
      "IPU available: False, using: 0 IPUs\n",
      "HPU available: False, using: 0 HPUs\n",
      "\n",
      "  | Name          | Type             | Params\n",
      "---------------------------------------------------\n",
      "0 | criterion     | MSELoss          | 0     \n",
      "1 | train_metrics | MetricCollection | 0     \n",
      "2 | val_metrics   | MetricCollection | 0     \n",
      "3 | rnn           | LSTM             | 2.5 K \n",
      "4 | V             | Linear           | 21    \n",
      "---------------------------------------------------\n",
      "2.5 K     Trainable params\n",
      "0         Non-trainable params\n",
      "2.5 K     Total params\n",
      "0.010     Total estimated model params size (MB)\n"
     ]
    },
    {
     "data": {
      "application/vnd.jupyter.widget-view+json": {
       "model_id": "e5f84471b9b94c8ea60a538f5dfe62d8",
       "version_major": 2,
       "version_minor": 0
      },
      "text/plain": [
       "Sanity Checking: |                                                                               | 0/? [00:00<…"
      ]
     },
     "metadata": {},
     "output_type": "display_data"
    },
    {
     "data": {
      "application/vnd.jupyter.widget-view+json": {
       "model_id": "a886e10e63d746e48c9a9f18fed6e853",
       "version_major": 2,
       "version_minor": 0
      },
      "text/plain": [
       "Training: |                                                                                      | 0/? [00:00<…"
      ]
     },
     "metadata": {},
     "output_type": "display_data"
    },
    {
     "data": {
      "application/vnd.jupyter.widget-view+json": {
       "model_id": "1a7db4066be545f48ce3c8b9f428f8f5",
       "version_major": 2,
       "version_minor": 0
      },
      "text/plain": [
       "Validation: |                                                                                    | 0/? [00:00<…"
      ]
     },
     "metadata": {},
     "output_type": "display_data"
    },
    {
     "data": {
      "application/vnd.jupyter.widget-view+json": {
       "model_id": "fce803014b0b48f2bc3e419880ebe55b",
       "version_major": 2,
       "version_minor": 0
      },
      "text/plain": [
       "Validation: |                                                                                    | 0/? [00:00<…"
      ]
     },
     "metadata": {},
     "output_type": "display_data"
    },
    {
     "data": {
      "application/vnd.jupyter.widget-view+json": {
       "model_id": "e31ff894a66b4c4ca67ec55875004aff",
       "version_major": 2,
       "version_minor": 0
      },
      "text/plain": [
       "Validation: |                                                                                    | 0/? [00:00<…"
      ]
     },
     "metadata": {},
     "output_type": "display_data"
    },
    {
     "data": {
      "application/vnd.jupyter.widget-view+json": {
       "model_id": "ee5a08e3b3dc4d85bf42da137cc6fb45",
       "version_major": 2,
       "version_minor": 0
      },
      "text/plain": [
       "Validation: |                                                                                    | 0/? [00:00<…"
      ]
     },
     "metadata": {},
     "output_type": "display_data"
    },
    {
     "data": {
      "application/vnd.jupyter.widget-view+json": {
       "model_id": "b6b657b7ce0745e18304b81bb0306cbf",
       "version_major": 2,
       "version_minor": 0
      },
      "text/plain": [
       "Validation: |                                                                                    | 0/? [00:00<…"
      ]
     },
     "metadata": {},
     "output_type": "display_data"
    },
    {
     "data": {
      "application/vnd.jupyter.widget-view+json": {
       "model_id": "5aba2497b0c54eb8aab89b575ce6d66a",
       "version_major": 2,
       "version_minor": 0
      },
      "text/plain": [
       "Validation: |                                                                                    | 0/? [00:00<…"
      ]
     },
     "metadata": {},
     "output_type": "display_data"
    },
    {
     "data": {
      "application/vnd.jupyter.widget-view+json": {
       "model_id": "545e8f56fdb449cab479cd355b757efc",
       "version_major": 2,
       "version_minor": 0
      },
      "text/plain": [
       "Validation: |                                                                                    | 0/? [00:00<…"
      ]
     },
     "metadata": {},
     "output_type": "display_data"
    },
    {
     "data": {
      "application/vnd.jupyter.widget-view+json": {
       "model_id": "7ad8d44aa36a4a1da709934ca32b43cd",
       "version_major": 2,
       "version_minor": 0
      },
      "text/plain": [
       "Validation: |                                                                                    | 0/? [00:00<…"
      ]
     },
     "metadata": {},
     "output_type": "display_data"
    },
    {
     "data": {
      "application/vnd.jupyter.widget-view+json": {
       "model_id": "906edba7ddb642599e2728a59d621825",
       "version_major": 2,
       "version_minor": 0
      },
      "text/plain": [
       "Validation: |                                                                                    | 0/? [00:00<…"
      ]
     },
     "metadata": {},
     "output_type": "display_data"
    },
    {
     "data": {
      "application/vnd.jupyter.widget-view+json": {
       "model_id": "86492bdaf3be4713811720b997bc3072",
       "version_major": 2,
       "version_minor": 0
      },
      "text/plain": [
       "Validation: |                                                                                    | 0/? [00:00<…"
      ]
     },
     "metadata": {},
     "output_type": "display_data"
    },
    {
     "data": {
      "application/vnd.jupyter.widget-view+json": {
       "model_id": "471572ffdc44473eb3cdf735b90de464",
       "version_major": 2,
       "version_minor": 0
      },
      "text/plain": [
       "Validation: |                                                                                    | 0/? [00:00<…"
      ]
     },
     "metadata": {},
     "output_type": "display_data"
    },
    {
     "data": {
      "application/vnd.jupyter.widget-view+json": {
       "model_id": "c1925d559b884692932ebe173c4fc6ee",
       "version_major": 2,
       "version_minor": 0
      },
      "text/plain": [
       "Validation: |                                                                                    | 0/? [00:00<…"
      ]
     },
     "metadata": {},
     "output_type": "display_data"
    },
    {
     "data": {
      "application/vnd.jupyter.widget-view+json": {
       "model_id": "03e427ffca5d458d9c58fcac3f1d34d0",
       "version_major": 2,
       "version_minor": 0
      },
      "text/plain": [
       "Validation: |                                                                                    | 0/? [00:00<…"
      ]
     },
     "metadata": {},
     "output_type": "display_data"
    },
    {
     "data": {
      "application/vnd.jupyter.widget-view+json": {
       "model_id": "595bae007424419398020bad2d55dc11",
       "version_major": 2,
       "version_minor": 0
      },
      "text/plain": [
       "Validation: |                                                                                    | 0/? [00:00<…"
      ]
     },
     "metadata": {},
     "output_type": "display_data"
    },
    {
     "data": {
      "application/vnd.jupyter.widget-view+json": {
       "model_id": "c8bf3995fd16460f9633aeeea3c43176",
       "version_major": 2,
       "version_minor": 0
      },
      "text/plain": [
       "Validation: |                                                                                    | 0/? [00:00<…"
      ]
     },
     "metadata": {},
     "output_type": "display_data"
    },
    {
     "data": {
      "application/vnd.jupyter.widget-view+json": {
       "model_id": "7c22bb7302b943f1bf6e7fcd23b629fb",
       "version_major": 2,
       "version_minor": 0
      },
      "text/plain": [
       "Validation: |                                                                                    | 0/? [00:00<…"
      ]
     },
     "metadata": {},
     "output_type": "display_data"
    },
    {
     "data": {
      "application/vnd.jupyter.widget-view+json": {
       "model_id": "d75702bcd5f4437493c0b4f3156cb011",
       "version_major": 2,
       "version_minor": 0
      },
      "text/plain": [
       "Validation: |                                                                                    | 0/? [00:00<…"
      ]
     },
     "metadata": {},
     "output_type": "display_data"
    },
    {
     "data": {
      "application/vnd.jupyter.widget-view+json": {
       "model_id": "6291e64bc3894cb893e2473ac884125e",
       "version_major": 2,
       "version_minor": 0
      },
      "text/plain": [
       "Validation: |                                                                                    | 0/? [00:00<…"
      ]
     },
     "metadata": {},
     "output_type": "display_data"
    },
    {
     "data": {
      "application/vnd.jupyter.widget-view+json": {
       "model_id": "4085524b675247218b52ba1df1d1c281",
       "version_major": 2,
       "version_minor": 0
      },
      "text/plain": [
       "Validation: |                                                                                    | 0/? [00:00<…"
      ]
     },
     "metadata": {},
     "output_type": "display_data"
    },
    {
     "data": {
      "application/vnd.jupyter.widget-view+json": {
       "model_id": "504760cd7487400c9115ec39b7b1fa69",
       "version_major": 2,
       "version_minor": 0
      },
      "text/plain": [
       "Validation: |                                                                                    | 0/? [00:00<…"
      ]
     },
     "metadata": {},
     "output_type": "display_data"
    },
    {
     "data": {
      "application/vnd.jupyter.widget-view+json": {
       "model_id": "3fa9bc517c5e461aa29c87719ccb9a99",
       "version_major": 2,
       "version_minor": 0
      },
      "text/plain": [
       "Validation: |                                                                                    | 0/? [00:00<…"
      ]
     },
     "metadata": {},
     "output_type": "display_data"
    },
    {
     "data": {
      "application/vnd.jupyter.widget-view+json": {
       "model_id": "a6a0ed21812e448cb6a68784950742a2",
       "version_major": 2,
       "version_minor": 0
      },
      "text/plain": [
       "Validation: |                                                                                    | 0/? [00:00<…"
      ]
     },
     "metadata": {},
     "output_type": "display_data"
    },
    {
     "data": {
      "application/vnd.jupyter.widget-view+json": {
       "model_id": "0825de7823bd4f49b4e94e22f3b4beae",
       "version_major": 2,
       "version_minor": 0
      },
      "text/plain": [
       "Validation: |                                                                                    | 0/? [00:00<…"
      ]
     },
     "metadata": {},
     "output_type": "display_data"
    },
    {
     "data": {
      "application/vnd.jupyter.widget-view+json": {
       "model_id": "83ff8a939aa24acc9262f33298ac09ff",
       "version_major": 2,
       "version_minor": 0
      },
      "text/plain": [
       "Validation: |                                                                                    | 0/? [00:00<…"
      ]
     },
     "metadata": {},
     "output_type": "display_data"
    },
    {
     "data": {
      "application/vnd.jupyter.widget-view+json": {
       "model_id": "589c8f7bfdbd4295a2f5f8e90778f058",
       "version_major": 2,
       "version_minor": 0
      },
      "text/plain": [
       "Validation: |                                                                                    | 0/? [00:00<…"
      ]
     },
     "metadata": {},
     "output_type": "display_data"
    },
    {
     "data": {
      "application/vnd.jupyter.widget-view+json": {
       "model_id": "e2d34a95204a46eeb2e057bebbe25797",
       "version_major": 2,
       "version_minor": 0
      },
      "text/plain": [
       "Validation: |                                                                                    | 0/? [00:00<…"
      ]
     },
     "metadata": {},
     "output_type": "display_data"
    },
    {
     "data": {
      "application/vnd.jupyter.widget-view+json": {
       "model_id": "6278796b91074bcabc1345c8a0e02af3",
       "version_major": 2,
       "version_minor": 0
      },
      "text/plain": [
       "Validation: |                                                                                    | 0/? [00:00<…"
      ]
     },
     "metadata": {},
     "output_type": "display_data"
    },
    {
     "data": {
      "application/vnd.jupyter.widget-view+json": {
       "model_id": "e8e4b938dcf348fd96ea8c2fe9a2de1c",
       "version_major": 2,
       "version_minor": 0
      },
      "text/plain": [
       "Validation: |                                                                                    | 0/? [00:00<…"
      ]
     },
     "metadata": {},
     "output_type": "display_data"
    },
    {
     "data": {
      "application/vnd.jupyter.widget-view+json": {
       "model_id": "9d32071daef249118c3e760427fdf17c",
       "version_major": 2,
       "version_minor": 0
      },
      "text/plain": [
       "Validation: |                                                                                    | 0/? [00:00<…"
      ]
     },
     "metadata": {},
     "output_type": "display_data"
    },
    {
     "data": {
      "application/vnd.jupyter.widget-view+json": {
       "model_id": "36530346fcc74f73a0b78b7a7886cd1b",
       "version_major": 2,
       "version_minor": 0
      },
      "text/plain": [
       "Validation: |                                                                                    | 0/? [00:00<…"
      ]
     },
     "metadata": {},
     "output_type": "display_data"
    },
    {
     "data": {
      "application/vnd.jupyter.widget-view+json": {
       "model_id": "775a7dfc80f4457f953f788c93f1bf99",
       "version_major": 2,
       "version_minor": 0
      },
      "text/plain": [
       "Validation: |                                                                                    | 0/? [00:00<…"
      ]
     },
     "metadata": {},
     "output_type": "display_data"
    },
    {
     "data": {
      "application/vnd.jupyter.widget-view+json": {
       "model_id": "9de9e26a7b7548b3b0869fb580afa4a6",
       "version_major": 2,
       "version_minor": 0
      },
      "text/plain": [
       "Validation: |                                                                                    | 0/? [00:00<…"
      ]
     },
     "metadata": {},
     "output_type": "display_data"
    },
    {
     "data": {
      "application/vnd.jupyter.widget-view+json": {
       "model_id": "d2485ac6b7764b5099b2d4df293933ee",
       "version_major": 2,
       "version_minor": 0
      },
      "text/plain": [
       "Validation: |                                                                                    | 0/? [00:00<…"
      ]
     },
     "metadata": {},
     "output_type": "display_data"
    },
    {
     "data": {
      "application/vnd.jupyter.widget-view+json": {
       "model_id": "4bf5c9ab0b734f6b9df7af2b6a9b4d43",
       "version_major": 2,
       "version_minor": 0
      },
      "text/plain": [
       "Validation: |                                                                                    | 0/? [00:00<…"
      ]
     },
     "metadata": {},
     "output_type": "display_data"
    },
    {
     "data": {
      "application/vnd.jupyter.widget-view+json": {
       "model_id": "16b9b4ba8fcd41b1963b8fb8f1cf4c37",
       "version_major": 2,
       "version_minor": 0
      },
      "text/plain": [
       "Validation: |                                                                                    | 0/? [00:00<…"
      ]
     },
     "metadata": {},
     "output_type": "display_data"
    },
    {
     "data": {
      "application/vnd.jupyter.widget-view+json": {
       "model_id": "bdaf5fa7f458471092573f4dcafcbaa7",
       "version_major": 2,
       "version_minor": 0
      },
      "text/plain": [
       "Validation: |                                                                                    | 0/? [00:00<…"
      ]
     },
     "metadata": {},
     "output_type": "display_data"
    },
    {
     "data": {
      "application/vnd.jupyter.widget-view+json": {
       "model_id": "acb2386bf22a42a99fefb9354cb010af",
       "version_major": 2,
       "version_minor": 0
      },
      "text/plain": [
       "Validation: |                                                                                    | 0/? [00:00<…"
      ]
     },
     "metadata": {},
     "output_type": "display_data"
    },
    {
     "data": {
      "application/vnd.jupyter.widget-view+json": {
       "model_id": "a916e9890f0a435cb04a6f2a492b2dc8",
       "version_major": 2,
       "version_minor": 0
      },
      "text/plain": [
       "Validation: |                                                                                    | 0/? [00:00<…"
      ]
     },
     "metadata": {},
     "output_type": "display_data"
    },
    {
     "data": {
      "application/vnd.jupyter.widget-view+json": {
       "model_id": "aa0a8743ce8d40f6bd0f022b49baa5cb",
       "version_major": 2,
       "version_minor": 0
      },
      "text/plain": [
       "Validation: |                                                                                    | 0/? [00:00<…"
      ]
     },
     "metadata": {},
     "output_type": "display_data"
    },
    {
     "data": {
      "text/plain": [
       "RNNModel(model=LSTM, hidden_dim=20, n_rnn_layers=1, dropout=0, training_length=20, batch_size=8, n_epochs=300, optimizer_kwargs={'lr': 0.001}, model_name=LSTM_memory_usage, log_tensorboard=True, random_state=42, input_chunk_length=5, force_reset=True, save_checkpoints=True, pl_trainer_kwargs={'callbacks': [<pytorch_lightning.callbacks.early_stopping.EarlyStopping object at 0x000002A5FC7DE890>], 'log_every_n_steps': 5})"
      ]
     },
     "execution_count": 30,
     "metadata": {},
     "output_type": "execute_result"
    }
   ],
   "source": [
    "# define early stopping parameters\n",
    "my_stopper = EarlyStopping(\n",
    "    monitor=\"val_loss\",\n",
    "    patience=10,\n",
    "    min_delta=0.0005,\n",
    "    mode='min',\n",
    ")\n",
    "\n",
    "pl_trainer_kwargs={\"callbacks\": [my_stopper], \"log_every_n_steps\": 5}\n",
    "\n",
    "# build model\n",
    "my_model = RNNModel(\n",
    "    model=\"LSTM\",\n",
    "    hidden_dim=20,\n",
    "    dropout=0,\n",
    "    batch_size=8,\n",
    "    n_epochs=300,\n",
    "    optimizer_kwargs={\"lr\": 1e-3},\n",
    "    model_name=\"LSTM_memory_usage\",\n",
    "    log_tensorboard=True,\n",
    "    random_state=42,\n",
    "    training_length=20,\n",
    "    input_chunk_length=5,\n",
    "    force_reset=True,\n",
    "    save_checkpoints=True,\n",
    "    pl_trainer_kwargs=pl_trainer_kwargs\n",
    ")\n",
    "\n",
    "# train model\n",
    "my_model.fit(\n",
    "    train_transformed,\n",
    "    future_covariates=covariates_transformed,\n",
    "    val_series=val_transformed,\n",
    "    val_future_covariates=covariates_transformed,\n",
    "    verbose=True\n",
    ")"
   ]
  },
  {
   "cell_type": "code",
   "execution_count": 31,
   "metadata": {},
   "outputs": [],
   "source": [
    "def eval_model(model):\n",
    "    pred_series = model.predict(n=test_size - 1, future_covariates=covariates_transformed)\n",
    "\n",
    "    \n",
    "    # Plot the forecast\n",
    "    f, ax = plt.subplots(1)\n",
    "    f.set_figheight(6)\n",
    "    f.set_figwidth(15)\n",
    "\n",
    "    # inverse transform the predictions\n",
    "    pred_series = transformer.inverse_transform(pred_series)\n",
    "\n",
    "    mape_score = mape(pred_series, test)/100\n",
    "    mae_score = mae(pred_series, test)\n",
    "    rmse_score = rmse(pred_series, test)\n",
    "    \n",
    "    # Plot the data\n",
    "    ax.plot(interpolated_df.index[:train_size], series[:train_size].values(), label=\"Training Set\", color=\"steelblue\")\n",
    "    ax.plot(interpolated_df.index[train_size:], series[train_size:].values(), label=\"Test Set\", color=\"orange\")\n",
    "    ax.plot(interpolated_df.index[train_size + 1:], pred_series.values(), label=\"Predictions\", color='green')\n",
    "    plt.title(f'Prediction \\n MAPE: {mape_score:.2f}, MAE: {mae_score:.2f}, RMSE: {rmse_score:.2f}', fontsize=14)\n",
    "\n",
    "    plt.xlabel('Time')\n",
    "    plt.ylabel('Memory usage (MB)') \n",
    "    plt.legend()\n",
    "\n",
    "    plt.show()"
   ]
  },
  {
   "cell_type": "code",
   "execution_count": 32,
   "metadata": {},
   "outputs": [
    {
     "name": "stderr",
     "output_type": "stream",
     "text": [
      "GPU available: False, used: False\n",
      "TPU available: False, using: 0 TPU cores\n",
      "IPU available: False, using: 0 IPUs\n",
      "HPU available: False, using: 0 HPUs\n"
     ]
    },
    {
     "data": {
      "application/vnd.jupyter.widget-view+json": {
       "model_id": "4f52d7df79ad4d89a44b5fbc352bc909",
       "version_major": 2,
       "version_minor": 0
      },
      "text/plain": [
       "Predicting: |                                                                                    | 0/? [00:00<…"
      ]
     },
     "metadata": {},
     "output_type": "display_data"
    },
    {
     "data": {
      "image/png": "[encoded data removed]",
      "text/plain": [
       "<Figure size 1500x600 with 1 Axes>"
      ]
     },
     "metadata": {},
     "output_type": "display_data"
    }
   ],
   "source": [
    "best_model = RNNModel.load_from_checkpoint(model_name=\"LSTM_memory_usage\", best=True)\n",
    "eval_model(best_model)"
   ]
  }
 ],
 "metadata": {
  "kernelspec": {
   "display_name": "Python 3 (ipykernel)",
   "language": "python",
   "name": "python3"
  }
 },
 "nbformat": 4,
 "nbformat_minor": 2
}
